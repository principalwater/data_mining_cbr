{
 "cells": [
  {
   "cell_type": "markdown",
   "id": "f48c65aa",
   "metadata": {},
   "source": [
    "This Python script converts PDF files into CSV format, merges all the CSV files into a single XLSX file, and then merges all the sheets within the XLSX file into one.\n",
    "\n",
    "The tabula library is used to convert PDF files into CSV format. The converted CSV files are then copied to a separate directory and deleted from the original PDF directory.\n",
    "\n",
    "The pyexcel library is used to merge all the CSV files into a single XLSX file. The resulting XLSX file contains multiple sheets.\n",
    "\n",
    "The script then reads all the XLSX files in a directory, extracts all the sheets, and appends them to a single pandas dataframe. Finally, the resulting dataframe is written to a new XLSX file."
   ]
  },
  {
   "cell_type": "code",
   "execution_count": 4,
   "id": "7a38ba62-7882-4828-8c34-5a6cff714703",
   "metadata": {},
   "outputs": [
    {
     "name": "stdout",
     "output_type": "stream",
     "text": [
      "okay, bro!\n"
     ]
    }
   ],
   "source": [
    "#!/usr/bin/env python\n",
    "# -*- coding: utf-8 -*-\n",
    "\n",
    "import tabula\n",
    "import os\n",
    "import shutil\n",
    "import glob\n",
    "import pandas as pd\n",
    "from pyexcel.cookbook import merge_all_to_a_book\n",
    "\n",
    "# convert all PDFs in a directory\n",
    "tabula.convert_into_by_batch(\"/Users/principalwater/Documents/coding_Projects/Work/analysis05072021/pdf/\", output_format='csv', pages='all')    \n",
    "# copy csv to its folder\n",
    "src_dir = \"/Users/principalwater/Documents/coding_Projects/Work/analysis05072021/pdf/\"\n",
    "dst_dir = \"/Users/principalwater/Documents/coding_Projects/Work/analysis05072021/csv/\"\n",
    "for root, dirs, files in os.walk(src_dir):\n",
    "    for f in files:\n",
    "        if f.endswith('.csv'):\n",
    "            shutil.copy(os.path.join(root,f), dst_dir)\n",
    "\n",
    "# delete csv from pdf folder\n",
    "files_in_directory = os.listdir(src_dir)\n",
    "filtered_files = [file for file in files_in_directory if file.endswith(\".csv\")]\n",
    "for file in filtered_files:\n",
    "\tpath_to_file = os.path.join(src_dir, file)\n",
    "\tos.remove(path_to_file)\n",
    "\n",
    "# merge all csv to xlsx file\n",
    "merge_all_to_a_book(glob.glob(\"/Users/principalwater/Documents/coding_Projects/Work/analysis05072021/csv/*.csv\"), \"output.xlsx\")\n",
    "\n",
    "# merge sheets in xlsx file into one\n",
    "df_total = pd.DataFrame()\n",
    "files = os.listdir('/Users/principalwater/Documents/coding_Projects/Work/analysis05072021/')\n",
    "for file in files:  # loop through Excel files\n",
    "    if file.endswith('.xlsx'):\n",
    "        excel_file = pd.ExcelFile(file)\n",
    "        sheets = excel_file.sheet_names\n",
    "        for sheet in sheets: # loop through sheets inside an Excel file\n",
    "            df = excel_file.parse(sheet_name = sheet)\n",
    "            df_total = df_total.append(df)\n",
    "df_total.to_excel('combined_file.xlsx')\n",
    "\n",
    "print ('okay, bro!')"
   ]
  }
 ],
 "metadata": {
  "kernelspec": {
   "display_name": "Python 3.10.8 64-bit ('3.10.8')",
   "language": "python",
   "name": "python3"
  },
  "language_info": {
   "codemirror_mode": {
    "name": "ipython",
    "version": 3
   },
   "file_extension": ".py",
   "mimetype": "text/x-python",
   "name": "python",
   "nbconvert_exporter": "python",
   "pygments_lexer": "ipython3",
   "version": "3.10.8"
  },
  "vscode": {
   "interpreter": {
    "hash": "be39b3f8db6f6aadae59bee8ccdccf8c340e7c693887d133fde64e2e9d5b4ca2"
   }
  }
 },
 "nbformat": 4,
 "nbformat_minor": 5
}
