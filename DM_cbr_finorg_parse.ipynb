{
 "cells": [
  {
   "cell_type": "markdown",
   "metadata": {},
   "source": [
    "This script uses the BeautifulSoup library to scrape data from the Central Bank of Russia's website by building a URL with a gene parameter that specifies the organization's Taxpayer Identification Number (hereinafter - INN).\n",
    "\n",
    "The numpy library is used to read a csv file containing a list of INN numbers, which are then passed to the build_url() function to construct a list of URLs.\n",
    "\n",
    "The requests library is used to fetch the HTML content of each URL and the resulting HTML code is passed to BeautifulSoup to parse the tables.\n",
    "\n",
    "Finally, the pandas library is used to transform each table into a DataFrame and check if it is empty or not. The script outputs '1' if the table is not empty, '0' if it is, and 'error' if an exception is raised."
   ]
  },
  {
   "cell_type": "code",
   "execution_count": 1,
   "metadata": {},
   "outputs": [
    {
     "name": "stdout",
     "output_type": "stream",
     "text": [
      "1\n",
      "1\n",
      "0\n",
      "1\n",
      "0\n",
      "0\n",
      "0\n"
     ]
    }
   ],
   "source": [
    "from bs4 import BeautifulSoup\n",
    "import pandas as pd\n",
    "import requests\n",
    "import numpy as np\n",
    "\n",
    "\n",
    "def build_url(gene):\n",
    "    return 'https://www.cbr.ru/finorg/?UniDbQuery2.Posted=True&UniDbQuery2.SearchPrase=&UniDbQuery2.SearchOGRN=&UniDbQuery2.SearchINN=' + gene + '&UniDbQuery2.SearchREGN=&UniDbQuery2.SearchADR=&UniDbQuery2.Lic=&UniDbQuery2.ViewMode=0&UniDbQuery2.orgType=&UniDbQuery2.foStatus=1&UniDbQuery2.foOkato='\n",
    "# Generic extraction of list genes from csv\n",
    "csv_file = np.genfromtxt('DM_cbr_finorg_parse_data.csv', \n",
    "                          delimiter=',', dtype=str)\n",
    "genes = csv_file[:].tolist()\n",
    "\n",
    "# Using regular for\n",
    "genes_urls = []\n",
    "for gene in genes:\n",
    "    genes_urls.append(build_url(gene))\n",
    "\n",
    "# Using list comprehension\n",
    "res = [requests.get(url) for url in genes_urls]\n",
    "\n",
    "soup = [BeautifulSoup(tab.text) for tab in res]\n",
    "\n",
    "tables = [tablesoup.find_all('table', {'class': 'data'}) for tablesoup in soup]\n",
    "\n",
    "result = [pd.DataFrame(res) for res in tables]\n",
    "\n",
    "for resss in result:\n",
    "    if resss.empty == True:\n",
    "        print ('0')\n",
    "    elif resss.empty == False:\n",
    "        print('1')\n",
    "    else:\n",
    "        print('error')"
   ]
  },
  {
   "cell_type": "markdown",
   "metadata": {},
   "source": [
    "This Python script uses the BeautifulSoup library and the requests module to scrape data from the Central Bank of Russia's website. Now the user inputs a list of Major State Registration Numbers (hereinafter - OGRN), which are then used to construct a URL for each OGRN number. The script then uses requests to access each URL and retrieve the HTML content.\n",
    "\n",
    "The script then uses BeautifulSoup to parse the HTML and extract a specific table from it based on the table's unique class attribute. It then uses a custom function called tableDataText to extract the table data and create a pandas DataFrame with it. The DataFrame is then displayed using the display() function."
   ]
  },
  {
   "cell_type": "code",
   "execution_count": 48,
   "metadata": {},
   "outputs": [
    {
     "data": {
      "text/html": [
       "<div>\n",
       "<style scoped>\n",
       "    .dataframe tbody tr th:only-of-type {\n",
       "        vertical-align: middle;\n",
       "    }\n",
       "\n",
       "    .dataframe tbody tr th {\n",
       "        vertical-align: top;\n",
       "    }\n",
       "\n",
       "    .dataframe thead th {\n",
       "        text-align: right;\n",
       "    }\n",
       "</style>\n",
       "<table border=\"1\" class=\"dataframe\">\n",
       "  <thead>\n",
       "    <tr style=\"text-align: right;\">\n",
       "      <th></th>\n",
       "      <th>№ лицензии</th>\n",
       "      <th>Статус лицензии</th>\n",
       "      <th>Тип лицензии</th>\n",
       "      <th>Подтип лицензии</th>\n",
       "      <th>Дата выдачи лицензии</th>\n",
       "      <th>Срок действия лицензии</th>\n",
       "      <th>Дата прекращения действия лицензии</th>\n",
       "      <th>Файл лицензии</th>\n",
       "    </tr>\n",
       "  </thead>\n",
       "  <tbody>\n",
       "    <tr>\n",
       "      <th>0</th>\n",
       "      <td>1943</td>\n",
       "      <td>Отозванная</td>\n",
       "      <td>Лицензия на привлечение во вклады денежных сре...</td>\n",
       "      <td></td>\n",
       "      <td>25.09.2013</td>\n",
       "      <td>Без ограничения срока действия</td>\n",
       "      <td></td>\n",
       "      <td></td>\n",
       "    </tr>\n",
       "    <tr>\n",
       "      <th>1</th>\n",
       "      <td>1943</td>\n",
       "      <td>Отозванная</td>\n",
       "      <td>Лицензия на осуществление банковских операций ...</td>\n",
       "      <td></td>\n",
       "      <td>25.09.2013</td>\n",
       "      <td>Без ограничения срока действия</td>\n",
       "      <td></td>\n",
       "      <td></td>\n",
       "    </tr>\n",
       "  </tbody>\n",
       "</table>\n",
       "</div>"
      ],
      "text/plain": [
       "  № лицензии Статус лицензии  \\\n",
       "0       1943      Отозванная   \n",
       "1       1943      Отозванная   \n",
       "\n",
       "                                        Тип лицензии Подтип лицензии  \\\n",
       "0  Лицензия на привлечение во вклады денежных сре...                   \n",
       "1  Лицензия на осуществление банковских операций ...                   \n",
       "\n",
       "  Дата выдачи лицензии          Срок действия лицензии  \\\n",
       "0           25.09.2013  Без ограничения срока действия   \n",
       "1           25.09.2013  Без ограничения срока действия   \n",
       "\n",
       "  Дата прекращения действия лицензии Файл лицензии  \n",
       "0                                                   \n",
       "1                                                   "
      ]
     },
     "metadata": {},
     "output_type": "display_data"
    }
   ],
   "source": [
    "from bs4 import BeautifulSoup as Soup\n",
    "import requests\n",
    "\n",
    "\n",
    "OGRN = input().split(';')\n",
    "for i in OGRN:\n",
    "    URL = 'https://www.cbr.ru/finorg/foinfo/?ogrn=' + i\n",
    "    htmltable = requests.get(URL)\n",
    "\n",
    "html = htmltable # read your html with urllib/requests etc.\n",
    "soup = BeautifulSoup(html.text, parser='lxml')\n",
    "\n",
    "htmltable = soup.find('table', { 'class' : 'data' })\n",
    "# where the dictionary specify unique attributes for the 'table' tag\n",
    "\n",
    "def tableDataText(table):    \n",
    "    \"\"\"Parses a html segment started with tag <table> followed \n",
    "    by multiple <tr> (table rows) and inner <td> (table data) tags. \n",
    "    It returns a list of rows with inner columns. \n",
    "    Accepts only one <th> (table header/data) in the first row.\n",
    "    \"\"\"\n",
    "    def rowgetDataText(tr, coltag='td'): # td (data) or th (header)       \n",
    "        return [td.get_text(strip=True) for td in tr.find_all(coltag)]  \n",
    "    rows = []\n",
    "    trs = table.find_all('tr')\n",
    "    headerow = rowgetDataText(trs[0], 'th')\n",
    "    if headerow: # if there is a header row include first\n",
    "        rows.append(headerow)\n",
    "        trs = trs[1:]\n",
    "    for tr in trs: # for every table row\n",
    "        rows.append(rowgetDataText(tr, 'td') ) # data row       \n",
    "    return rows\n",
    "\n",
    "list_table = tableDataText(htmltable)\n",
    "#list_table[:]\n",
    "\n",
    "dftable = pd.DataFrame(list_table[1:], columns=list_table[0])\n",
    "display(dftable)"
   ]
  }
 ],
 "metadata": {
  "kernelspec": {
   "display_name": "Python 3.10.8 64-bit ('3.10.8')",
   "language": "python",
   "name": "python3"
  },
  "language_info": {
   "codemirror_mode": {
    "name": "ipython",
    "version": 3
   },
   "file_extension": ".py",
   "mimetype": "text/x-python",
   "name": "python",
   "nbconvert_exporter": "python",
   "pygments_lexer": "ipython3",
   "version": "3.10.8"
  },
  "orig_nbformat": 4,
  "vscode": {
   "interpreter": {
    "hash": "be39b3f8db6f6aadae59bee8ccdccf8c340e7c693887d133fde64e2e9d5b4ca2"
   }
  }
 },
 "nbformat": 4,
 "nbformat_minor": 2
}
